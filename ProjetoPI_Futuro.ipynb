{
  "nbformat": 4,
  "nbformat_minor": 0,
  "metadata": {
    "colab": {
      "name": "ProjetoPI_Futuro.ipynb",
      "provenance": [],
      "collapsed_sections": [],
      "include_colab_link": true
    },
    "kernelspec": {
      "name": "python3",
      "display_name": "Python 3"
    },
    "accelerator": "GPU"
  },
  "cells": [
    {
      "cell_type": "markdown",
      "metadata": {
        "id": "view-in-github",
        "colab_type": "text"
      },
      "source": [
        "<a href=\"https://colab.research.google.com/github/Barbozah/ProcessamentoDeImagens/blob/master/ProjetoPI_Futuro.ipynb\" target=\"_parent\"><img src=\"https://colab.research.google.com/assets/colab-badge.svg\" alt=\"Open In Colab\"/></a>"
      ]
    },
    {
      "cell_type": "code",
      "metadata": {
        "id": "DE4TmOjZ4Ri2",
        "colab_type": "code",
        "outputId": "b35acca3-f5ff-4d89-ea2a-74769b9c1ac1",
        "colab": {
          "base_uri": "https://localhost:8080/",
          "height": 34
        }
      },
      "source": [
        "import cv2\n",
        "import numpy as np\n",
        "from google.colab.patches import cv2_imshow\n",
        "%matplotlib inline\n",
        "from matplotlib import pyplot as plt\n",
        "import multiprocessing as mp\n",
        "!pip install cython\n",
        "%load_ext Cython"
      ],
      "execution_count": 0,
      "outputs": [
        {
          "output_type": "stream",
          "text": [
            "Requirement already satisfied: cython in /usr/local/lib/python3.6/dist-packages (0.29.14)\n"
          ],
          "name": "stdout"
        }
      ]
    },
    {
      "cell_type": "code",
      "metadata": {
        "id": "tcaLSmpL4ggJ",
        "colab_type": "code",
        "colab": {}
      },
      "source": [
        "def randrect(img):\n",
        "    p = list(np.random.randint(0, img.shape[1], 2)) + list(np.random.randint(0, img.shape[0], 2))\n",
        "    return cv2.rectangle(img, \n",
        "                         (min(p[0], p[2]), min(p[1], p[3])), \n",
        "                         (max(p[0], p[2]), max(p[1], p[3])),\n",
        "                         255, cv2.FILLED)\n",
        "\n",
        "def dice(img, p1, p2, color, value):\n",
        "    img = img[:]\n",
        "    w, h = p2[0]-p1[0], p2[1]-p1[1]\n",
        "    img = cv2.rectangle(img, p1, p2, color=color, thickness=cv2.FILLED)\n",
        "    img = cv2.rectangle(img, p1, p2, color=[255,255,255], thickness=1)\n",
        "    pos = [\n",
        "        [(1,1)],\n",
        "        [(0,0),(2,2)],\n",
        "        [(0,0),(1,1),(2,2)],\n",
        "        [(0,0),(2,0),(0,2),(2,2)],\n",
        "        [(0,0),(2,0),(1,1),(0,2),(2,2)],\n",
        "        [(0,0),(2,0),(0,1),(2,1),(0,2),(2,2)]\n",
        "    ][value-1]\n",
        "    _h15 = int(h*.15)\n",
        "    _w15 = int(w*.15)\n",
        "    _h3 = int(h*.3)\n",
        "    _w3 = int(w*.3)\n",
        "    _h45 = int(h*.45)\n",
        "    _w45 = int(w*.45)\n",
        "    _h6 = int(h*.6)\n",
        "    _w6 = int(w*.6)\n",
        "    _h75 = int(h*.75)\n",
        "    _w75 = int(w*.75)\n",
        "    _h9 = int(h*.9)\n",
        "    _w9 = int(w*.9)\n",
        "    shape = img[p1[1]+_h15:p1[1]+_h3,p1[0]+_w15:p1[0]+_w3].shape\n",
        "    if (0,0) in pos:\n",
        "        img[p1[1]+_h15:p1[1]+_h3,p1[0]+_w15:p1[0]+_w3] = np.ones(shape) # 0,0\n",
        "    if (1,0) in pos:\n",
        "        img[p1[1]+_h15:p1[1]+_h3,p1[0]+_w45:p1[0]+_w6] = np.ones(shape) # 1,0\n",
        "    if (2,0) in pos:\n",
        "        img[p1[1]+_h15:p1[1]+_h3,p1[0]+_w75:p1[0]+_w9] = np.ones(shape) # 2,0\n",
        "    if (0,1) in pos:\n",
        "        img[p1[1]+_h45:p1[1]+_h6,p1[0]+_w15:p1[0]+_w3] = np.ones(shape) # 0,1\n",
        "    if (1,1) in pos:\n",
        "        img[p1[1]+_h45:p1[1]+_h6,p1[0]+_w45:p1[0]+_w6] = np.ones(shape) # 1,1\n",
        "    if (2,1) in pos:\n",
        "        img[p1[1]+_h45:p1[1]+_h6,p1[0]+_w75:p1[0]+_w9] = np.ones(shape) # 2,1\n",
        "    if (0,2) in pos:\n",
        "        img[p1[1]+_h75:p1[1]+_h9,p1[0]+_w15:p1[0]+_w3] = np.ones(shape) # 0,2\n",
        "    if (1,2) in pos:\n",
        "        img[p1[1]+_h75:p1[1]+_h9,p1[0]+int(w*.45):p1[0]+_w6] = np.ones(shape) # 1,2\n",
        "    if (2,2) in pos:\n",
        "        img[p1[1]+_h75:p1[1]+_h9,p1[0]+_w75:p1[0]+_w9] = np.ones(shape) # 2,2\n",
        "    return img\n",
        "\n",
        "def randcoord(w, h):\n",
        "    return np.random.randint(0, w-10), np.random.randint(0, h-10)\n",
        "\n",
        "def manhattan_distance(p1, p2):\n",
        "    return abs(p1[0]-p2[0]) + abs(p1[1]-p2[1])\n",
        "\n",
        "def inside(xy, square):\n",
        "    return square[0] <= xy[0] <= square[2] and square[1] <= xy[1] <= square[3]\n",
        "\n",
        "def inside_list(el, _list, arg=None):\n",
        "    check = False\n",
        "    for l in _list:\n",
        "        if not arg:\n",
        "            if inside(el, l):\n",
        "                return True\n",
        "        else:\n",
        "            if inside(el, l+arg):\n",
        "                return True\n",
        "    return False\n",
        "\n",
        "def minkowski_distance(p1, p2, p=4):\n",
        "    return ( abs(p1[0]-p2[0])**p + abs(p1[1]-p2[1])**p )**(1/p)\n",
        "\n",
        "def euclidean_distance(p1, p2):\n",
        "    return ((p1[0]-p2[0])**2 + (p1[1]-p2[1])**2)**(1/2)\n",
        "  \n",
        "def closer(el, nodes, distance):\n",
        "    c = (float('inf'), float('inf'))\n",
        "    for i in nodes:\n",
        "        if float(distance(i, el).real) < float(distance(c, el).real):\n",
        "            c = i\n",
        "    return c\n",
        "\n",
        "def grow(img, dices, distance):\n",
        "    new_img = img.copy()\n",
        "    for i in range(len(img)):\n",
        "        for j in range(len(img[i])):\n",
        "            if sum(img[i][j]) == 0:\n",
        "                coords = map(lambda x: (x[0]+10, x[1]+10), list(dices.keys()))\n",
        "                c = closer((j,i), coords, distance)\n",
        "                c = (c[0]-10, c[1]-10)\n",
        "                new_img[i][j] = dices[c][1]\n",
        "    return new_img\n",
        "\n",
        "def apply_rand_dices(shape_img=(400,400,3), num_dices=5, size_dice=(20,20), colors=None):\n",
        "    if not colors:\n",
        "        colors=[[240,0,0],[0,240,0],[0,0,240],[240,240,0],[240,0,240],[0,240,240]]\n",
        "    m = np.zeros(shape_img)\n",
        "    dices = {}\n",
        "    for i in range(num_dices):\n",
        "        coord = randcoord(m.shape[0]-size_dice[0], m.shape[1]-size_dice[1])\n",
        "        while inside_list(coord, list(dices.keys()), size_dice):\n",
        "            coord = randcoord(m.shape[0]-size_dice[0], m.shape[1]-size_dice[1])\n",
        "        value = np.random.randint(1,6)\n",
        "        dices[coord] = (value, colors[value-1])\n",
        "        m = dice(m, coord, (coord[0]+size_dice[0], coord[1]+size_dice[1]), colors[value-1], value)\n",
        "    return m, dices"
      ],
      "execution_count": 0,
      "outputs": []
    },
    {
      "cell_type": "code",
      "metadata": {
        "id": "2iDZnYksU7V5",
        "colab_type": "code",
        "colab": {}
      },
      "source": [
        "%%cython\n",
        "def grow_cython(img, dices, distance):\n",
        "  new_img = img.copy()\n",
        "  for i in range(len(img)):\n",
        "      for j in range(len(img[i])):\n",
        "          if sum(img[i][j]) == 0:\n",
        "              coords = map(lambda x: (x[0]+10, x[1]+10), list(dices.keys()))\n",
        "              def closer(el, nodes, distance):\n",
        "                c = (float('inf'), float('inf'))\n",
        "                for i in nodes:\n",
        "                    if float(distance(i, el).real) < float(distance(c, el).real):\n",
        "                        c = i\n",
        "                return c\n",
        "              c = closer((j,i), coords, distance)\n",
        "              c = (c[0]-10, c[1]-10)\n",
        "              new_img[i][j] = dices[c][1]\n",
        "  return new_img"
      ],
      "execution_count": 0,
      "outputs": []
    },
    {
      "cell_type": "code",
      "metadata": {
        "id": "hPu1UVYfeuam",
        "colab_type": "code",
        "colab": {}
      },
      "source": [
        "%%cython\n",
        "\n",
        "import multiprocessing as mp\n",
        "\n",
        "def inter_w(tup):\n",
        "    j, i, img, dices, distance = tup\n",
        "    if sum(img[i][j]) == 0:\n",
        "        coords = map(lambda x: (x[0]+10, x[1]+10), list(dices.keys()))\n",
        "        def closer(el, nodes, distance):\n",
        "          c = (float('inf'), float('inf'))\n",
        "          for i in nodes:\n",
        "              if float(distance(i, el).real) < float(distance(c, el).real):\n",
        "                  c = i\n",
        "          return c\n",
        "        c = closer((j,i), coords, distance)\n",
        "        c = (c[0]-10, c[1]-10)\n",
        "        return dices[c][1]\n",
        "    return img[i][j]\n",
        "\n",
        "def inter_h(tup):\n",
        "    i, img, dices, distance = tup\n",
        "    w = [(j, i, img, dices, distance) for j in range(len(img[i]))]\n",
        "    return list(map(inter_w, w))\n",
        "\n",
        "def grow_mp(img, dices, distance):\n",
        "  p = mp.Pool(16)\n",
        "  h = [(i, img, dices, distance) for i in range(len(img))]\n",
        "  return p.map(inter_h, h)"
      ],
      "execution_count": 0,
      "outputs": []
    },
    {
      "cell_type": "code",
      "metadata": {
        "id": "Uu4QYU7Epx0E",
        "colab_type": "code",
        "colab": {}
      },
      "source": [
        "%%cython\n",
        "\n",
        "from multiprocessing.pool import ThreadPool\n",
        "\n",
        "def inter_w(tup):\n",
        "    j, i, img, dices, distance = tup\n",
        "    if sum(img[i][j]) == 0:\n",
        "        coords = map(lambda x: (x[0]+10, x[1]+10), list(dices.keys()))\n",
        "        def closer(el, nodes, distance):\n",
        "          c = (float('inf'), float('inf'))\n",
        "          for i in nodes:\n",
        "              if float(distance(i, el).real) < float(distance(c, el).real):\n",
        "                  c = i\n",
        "          return c\n",
        "        c = closer((j,i), coords, distance)\n",
        "        c = (c[0]-10, c[1]-10)\n",
        "        return dices[c][1]\n",
        "    return img[i][j]\n",
        "\n",
        "def inter_h(tup):\n",
        "    i, img, dices, distance = tup\n",
        "    w = [(j, i, img, dices, distance) for j in range(len(img[i]))]\n",
        "    return list(map(inter_w, w))\n",
        "\n",
        "def grow_thread(img, dices, distance):\n",
        "  h = [(i, img, dices, distance) for i in range(len(img))]\n",
        "  pool = ThreadPool(processes=len(h))\n",
        "  async_results = [pool.apply_async(map, (inter_h, h)) for r in range(len(img))]\n",
        "  return [[*r.get()] for r in async_results]"
      ],
      "execution_count": 0,
      "outputs": []
    },
    {
      "cell_type": "code",
      "metadata": {
        "id": "XW6y3c3YoJRo",
        "colab_type": "code",
        "outputId": "0814c898-b63a-405e-e5a6-806e6dbfed67",
        "colab": {
          "base_uri": "https://localhost:8080/",
          "height": 51
        }
      },
      "source": [
        "%%time\n",
        "img, dices = apply_rand_dices(num_dices=7)\n",
        "g = grow(img, dices, minkowski_distance)"
      ],
      "execution_count": 0,
      "outputs": [
        {
          "output_type": "stream",
          "text": [
            "CPU times: user 3.73 s, sys: 1.51 ms, total: 3.73 s\n",
            "Wall time: 3.74 s\n"
          ],
          "name": "stdout"
        }
      ]
    },
    {
      "cell_type": "code",
      "metadata": {
        "id": "xF7Itxjn1nLM",
        "colab_type": "code",
        "outputId": "b70d6373-3185-467d-c275-da6e06eab9d0",
        "colab": {
          "base_uri": "https://localhost:8080/",
          "height": 51
        }
      },
      "source": [
        "%%time\n",
        "img, dices = apply_rand_dices(num_dices=7)\n",
        "g = grow_cython(img, dices, minkowski_distance)"
      ],
      "execution_count": 0,
      "outputs": [
        {
          "output_type": "stream",
          "text": [
            "CPU times: user 3.1 s, sys: 2.85 ms, total: 3.11 s\n",
            "Wall time: 3.11 s\n"
          ],
          "name": "stdout"
        }
      ]
    },
    {
      "cell_type": "code",
      "metadata": {
        "id": "mQoyRXzZ1vd2",
        "colab_type": "code",
        "outputId": "91965471-a87f-4bda-dd4e-9b2454270ead",
        "colab": {
          "base_uri": "https://localhost:8080/",
          "height": 34
        }
      },
      "source": [
        "import time\n",
        "import progressbar\n",
        "\n",
        "def grow_with_progress(img, dices, distance):\n",
        "    new_img = img.copy()\n",
        "    widgets=[\n",
        "      '[', progressbar.Timer(), '] ',\n",
        "      progressbar.Bar(),\n",
        "      ' (', progressbar.ETA(), ') ',\n",
        "    ]\n",
        "    for i in progressbar.progressbar(range(len(img)), widgets=widgets):\n",
        "      for j in range(len(img[i])):\n",
        "        if sum(img[i][j]) == 0:\n",
        "          coords = map(lambda x: (x[0]+10, x[1]+10), list(dices.keys()))\n",
        "          c = closer((j,i), coords, distance)\n",
        "          c = (c[0]-10, c[1]-10)\n",
        "          new_img[i][j] = dices[c][1]\n",
        "    return new_img\n",
        "\n",
        "img, dices = apply_rand_dices(num_dices=7)\n",
        "\n",
        "g = grow_with_progress(img, dices, minkowski_distance)"
      ],
      "execution_count": 0,
      "outputs": [
        {
          "output_type": "stream",
          "text": [
            "[Elapsed Time: 0:00:03] |###################################| (Time:  0:00:03) \n"
          ],
          "name": "stderr"
        }
      ]
    },
    {
      "cell_type": "code",
      "metadata": {
        "id": "bntB-juT4oMo",
        "colab_type": "code",
        "outputId": "252b9ff7-66b5-4d0a-9a4a-36bf17e7c71c",
        "colab": {
          "base_uri": "https://localhost:8080/",
          "height": 487
        }
      },
      "source": [
        "fig, axes = plt.subplots(1, 2, figsize=(16, 8))\n",
        "ax = axes.ravel()\n",
        "ax[0].imshow(img)\n",
        "ax[0].set_title('Original')\n",
        "ax[0].set_axis_off()\n",
        "\n",
        "ax[1].imshow(g)\n",
        "ax[1].set_title('Aplicado distância de Minkowski')\n",
        "ax[1].set_axis_off()"
      ],
      "execution_count": 0,
      "outputs": [
        {
          "output_type": "stream",
          "text": [
            "Clipping input data to the valid range for imshow with RGB data ([0..1] for floats or [0..255] for integers).\n",
            "Clipping input data to the valid range for imshow with RGB data ([0..1] for floats or [0..255] for integers).\n"
          ],
          "name": "stderr"
        },
        {
          "output_type": "display_data",
          "data": {
            "image/png": "[encoded data removed]",
            "text/plain": [
              "<Figure size 1152x576 with 2 Axes>"
            ]
          },
          "metadata": {
            "tags": []
          }
        }
      ]
    }
  ]
}